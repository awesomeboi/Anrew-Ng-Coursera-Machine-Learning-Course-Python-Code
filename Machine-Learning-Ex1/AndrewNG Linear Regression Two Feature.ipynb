{
 "cells": [
  {
   "cell_type": "code",
   "execution_count": 246,
   "metadata": {
    "collapsed": true
   },
   "outputs": [],
   "source": [
    "#Import Necessary Libraries\n",
    "import pandas as pd\n",
    "import numpy as np\n",
    "import matplotlib.pyplot as plt\n",
    "import seaborn as sns\n",
    "%matplotlib inline\n",
    "import warnings\n",
    "warnings.filterwarnings('ignore')"
   ]
  },
  {
   "cell_type": "code",
   "execution_count": 247,
   "metadata": {
    "collapsed": true
   },
   "outputs": [],
   "source": [
    "#Read Data\n",
    "data = pd.read_csv('ex1data2.txt', header=None)\n",
    "data.columns = ['HouseSize', 'NumOfBedrooms','Price']"
   ]
  },
  {
   "cell_type": "code",
   "execution_count": 248,
   "metadata": {},
   "outputs": [
    {
     "data": {
      "text/html": [
       "<div>\n",
       "<table border=\"1\" class=\"dataframe\">\n",
       "  <thead>\n",
       "    <tr style=\"text-align: right;\">\n",
       "      <th></th>\n",
       "      <th>HouseSize</th>\n",
       "      <th>NumOfBedrooms</th>\n",
       "      <th>Price</th>\n",
       "    </tr>\n",
       "  </thead>\n",
       "  <tbody>\n",
       "    <tr>\n",
       "      <th>0</th>\n",
       "      <td>2104</td>\n",
       "      <td>3</td>\n",
       "      <td>399900</td>\n",
       "    </tr>\n",
       "    <tr>\n",
       "      <th>1</th>\n",
       "      <td>1600</td>\n",
       "      <td>3</td>\n",
       "      <td>329900</td>\n",
       "    </tr>\n",
       "    <tr>\n",
       "      <th>2</th>\n",
       "      <td>2400</td>\n",
       "      <td>3</td>\n",
       "      <td>369000</td>\n",
       "    </tr>\n",
       "    <tr>\n",
       "      <th>3</th>\n",
       "      <td>1416</td>\n",
       "      <td>2</td>\n",
       "      <td>232000</td>\n",
       "    </tr>\n",
       "    <tr>\n",
       "      <th>4</th>\n",
       "      <td>3000</td>\n",
       "      <td>4</td>\n",
       "      <td>539900</td>\n",
       "    </tr>\n",
       "  </tbody>\n",
       "</table>\n",
       "</div>"
      ],
      "text/plain": [
       "   HouseSize  NumOfBedrooms   Price\n",
       "0       2104              3  399900\n",
       "1       1600              3  329900\n",
       "2       2400              3  369000\n",
       "3       1416              2  232000\n",
       "4       3000              4  539900"
      ]
     },
     "execution_count": 248,
     "metadata": {},
     "output_type": "execute_result"
    }
   ],
   "source": [
    "#Data Summary\n",
    "data.head()"
   ]
  },
  {
   "cell_type": "code",
   "execution_count": 249,
   "metadata": {},
   "outputs": [
    {
     "data": {
      "text/plain": [
       "3    25\n",
       "4    14\n",
       "2     6\n",
       "5     1\n",
       "1     1\n",
       "Name: NumOfBedrooms, dtype: int64"
      ]
     },
     "execution_count": 249,
     "metadata": {},
     "output_type": "execute_result"
    }
   ],
   "source": [
    "data.NumOfBedrooms.value_counts()"
   ]
  },
  {
   "cell_type": "code",
   "execution_count": 250,
   "metadata": {},
   "outputs": [
    {
     "data": {
      "text/plain": [
       "<matplotlib.text.Text at 0xd043390>"
      ]
     },
     "execution_count": 250,
     "metadata": {},
     "output_type": "execute_result"
    },
    {
     "data": {
      "image/png": "[encoded data removed]",
      "text/plain": [
       "<matplotlib.figure.Figure at 0xcff9a90>"
      ]
     },
     "metadata": {},
     "output_type": "display_data"
    }
   ],
   "source": [
    "#plotting House Size vs Price\n",
    "sns.lmplot(x='HouseSize', y='Price', hue='NumOfBedrooms',data=data, fit_reg=False)\n",
    "plt.xlabel('HouseSize')\n",
    "plt.ylabel('Price')\n",
    "plt.title('HouseSize vs Price')"
   ]
  },
  {
   "cell_type": "code",
   "execution_count": 251,
   "metadata": {},
   "outputs": [],
   "source": [
    "#Create X matrix\n",
    "X = np.array([data.HouseSize,data.NumOfBedrooms]).T\n",
    "#Create Y Matrix\n",
    "y=np.array(data.Price)\n",
    "\n",
    "y = y.reshape(-1,1)"
   ]
  },
  {
   "cell_type": "code",
   "execution_count": 252,
   "metadata": {},
   "outputs": [
    {
     "data": {
      "text/plain": [
       "(47, 2)"
      ]
     },
     "execution_count": 252,
     "metadata": {},
     "output_type": "execute_result"
    }
   ],
   "source": [
    "X.shape"
   ]
  },
  {
   "cell_type": "code",
   "execution_count": 264,
   "metadata": {
    "collapsed": true
   },
   "outputs": [],
   "source": [
    "#Normalize Feaure\n",
    "def featureNormalize(X):\n",
    "    mean = np.mean(X,axis=0)\n",
    "    #Python by default takes ddof = 0 for std. Octave std function takes ddof = 1.\n",
    "    #We need to write ddof =1 to have the same result.\n",
    "    sigma = np.std(X,axis=0, ddof=1)\n",
    "    X_norm = (X - mean) / sigma\n",
    "    return X_norm"
   ]
  },
  {
   "cell_type": "code",
   "execution_count": 265,
   "metadata": {
    "collapsed": true
   },
   "outputs": [],
   "source": [
    "#Add x0 column\n",
    "def addColumn(X):\n",
    "    values = np.full(X.shape[0],1).reshape(-1,1)\n",
    "    X_norm = np.concatenate([values, X],axis=1)\n",
    "    return X_norm"
   ]
  },
  {
   "cell_type": "code",
   "execution_count": 266,
   "metadata": {
    "collapsed": true
   },
   "outputs": [],
   "source": [
    "#Initialize theta Matrix as 0 Matrix\n",
    "theta = np.zeros((3,1))"
   ]
  },
  {
   "cell_type": "code",
   "execution_count": 267,
   "metadata": {},
   "outputs": [
    {
     "data": {
      "text/plain": [
       "array([[ 0.],\n",
       "       [ 0.],\n",
       "       [ 0.]])"
      ]
     },
     "execution_count": 267,
     "metadata": {},
     "output_type": "execute_result"
    }
   ],
   "source": [
    "#Check theta Matrix shape\n",
    "theta"
   ]
  },
  {
   "cell_type": "code",
   "execution_count": 268,
   "metadata": {
    "collapsed": true
   },
   "outputs": [],
   "source": [
    "# h = theta0 * x0 + theta1 * x1 + theta2 * x2\n",
    "# x1 and x2 are the Features Matrix second column and x0 is the Feature Matrix first column\n",
    "# x0 is always 1 for calculation\n",
    "# J = (sum((h-y)^2)) * 1/2m, m = Observation Number = Feature Number\n",
    "# J = Cost Function\n",
    "def costfunction(X, theta, y):\n",
    "    m = X[:,1].size\n",
    "    h = np.dot(X,theta)\n",
    "    J = np.sum(np.square(h-y))/(2*m)\n",
    "    return J"
   ]
  },
  {
   "cell_type": "code",
   "execution_count": 269,
   "metadata": {
    "collapsed": true
   },
   "outputs": [],
   "source": [
    "#Grading Decent\n",
    "def gradingDecent (X, theta, y, alpha, iteration):\n",
    "    m = X[:,1].size\n",
    "    J_change = []\n",
    "    for i in range(iteration):\n",
    "        h = np.dot(X,theta) - y\n",
    "        theta = theta - ((alpha/m)*(np.dot(X.T,h)))\n",
    "        J_change.append(costfunction(X, theta, y))\n",
    "    return theta,J_change"
   ]
  },
  {
   "cell_type": "code",
   "execution_count": 270,
   "metadata": {
    "collapsed": true
   },
   "outputs": [],
   "source": [
    "#Main function for Linear Regression\n",
    "def linearRegression(X, theta, y, alpha, iteration):\n",
    "    X_norm = featureNormalize(X)\n",
    "    X_norm = addColumn(X_norm)\n",
    "    theta,J_vals = gradingDecent(X_norm, theta, y, alpha, iteration)\n",
    "    return theta,J_vals"
   ]
  },
  {
   "cell_type": "code",
   "execution_count": 271,
   "metadata": {},
   "outputs": [],
   "source": [
    "#Run linear regression with alpha = 0.01 and iteration = 50 parameters \n",
    "alpha = 0.1\n",
    "iteration = 50\n",
    "theta,J_vals = linearRegression(X, theta, y, alpha, iteration)"
   ]
  },
  {
   "cell_type": "code",
   "execution_count": 272,
   "metadata": {},
   "outputs": [
    {
     "data": {
      "text/plain": [
       "array([[  3.38658249e+05],\n",
       "       [  1.04127516e+05],\n",
       "       [ -1.72205334e+02]])"
      ]
     },
     "execution_count": 272,
     "metadata": {},
     "output_type": "execute_result"
    }
   ],
   "source": [
    "#Check theta value\n",
    "theta"
   ]
  },
  {
   "cell_type": "markdown",
   "metadata": {},
   "source": [
    "This is the same value of the Octave code"
   ]
  },
  {
   "cell_type": "code",
   "execution_count": 273,
   "metadata": {},
   "outputs": [
    {
     "data": {
      "image/png": "[encoded data removed]",
      "text/plain": [
       "<matplotlib.figure.Figure at 0x80e9e10>"
      ]
     },
     "metadata": {},
     "output_type": "display_data"
    }
   ],
   "source": [
    "#Plot the Cost function vs Iteration Graph\n",
    "iteration_number = range(1,iteration+1)\n",
    "plt.plot(iteration_number,J_vals)\n",
    "plt.xlabel('Iteration')\n",
    "plt.ylabel('Cost')\n",
    "plt.title('Cost vs Iteration')\n",
    "plt.show()"
   ]
  },
  {
   "cell_type": "markdown",
   "metadata": {},
   "source": [
    "Theta goes down and stay same after nearly 15 iteration."
   ]
  },
  {
   "cell_type": "code",
   "execution_count": 274,
   "metadata": {},
   "outputs": [],
   "source": [
    "#Find price for 1650 sq.feet and 3 bedrooms house\n",
    "price = np.dot([1, (1650-np.mean(X,axis=0)[0])/np.std(X,axis=0, ddof=1)[0], (3-np.mean(X,axis=0)[1])/np.std(X,axis=0, ddof=1)[1]] , theta)"
   ]
  },
  {
   "cell_type": "code",
   "execution_count": 275,
   "metadata": {},
   "outputs": [
    {
     "data": {
      "text/plain": [
       "array([ 292748.08523215])"
      ]
     },
     "execution_count": 275,
     "metadata": {},
     "output_type": "execute_result"
    }
   ],
   "source": [
    "#Check the price\n",
    "price"
   ]
  },
  {
   "cell_type": "code",
   "execution_count": 276,
   "metadata": {
    "collapsed": true
   },
   "outputs": [],
   "source": [
    "#Do the same analysis with normal equation\n",
    "def normalEquation(X,y):\n",
    "    from numpy.linalg import inv\n",
    "    X_norm = addColumn(X)\n",
    "    print(X_norm.shape)\n",
    "    theta = np.zeros((3,1))\n",
    "    theta = np.dot(np.dot(inv(np.dot(np.transpose(X_norm),X_norm)),np.transpose(X_norm)),y)\n",
    "    return theta"
   ]
  },
  {
   "cell_type": "code",
   "execution_count": 277,
   "metadata": {},
   "outputs": [
    {
     "name": "stdout",
     "output_type": "stream",
     "text": [
      "(47, 3)\n"
     ]
    },
    {
     "data": {
      "text/plain": [
       "array([[ 89597.9095428 ],\n",
       "       [   139.21067402],\n",
       "       [ -8738.01911233]])"
      ]
     },
     "execution_count": 277,
     "metadata": {},
     "output_type": "execute_result"
    }
   ],
   "source": [
    "#Check the theta\n",
    "theta = normalEquation(X,y)\n",
    "theta"
   ]
  },
  {
   "cell_type": "code",
   "execution_count": 278,
   "metadata": {
    "collapsed": true
   },
   "outputs": [],
   "source": [
    "#Find price for 1650 sq.feet and 3 bedrooms house\n",
    "price = np.dot([1, (1650-np.mean(X,axis=0)[0])/np.std(X,axis=0, ddof=1)[0], (3-np.mean(X,axis=0)[1])/np.std(X,axis=0, ddof=1)[1]] , theta)"
   ]
  },
  {
   "cell_type": "code",
   "execution_count": 279,
   "metadata": {},
   "outputs": [
    {
     "data": {
      "text/plain": [
       "array([ 91490.95766355])"
      ]
     },
     "execution_count": 279,
     "metadata": {},
     "output_type": "execute_result"
    }
   ],
   "source": [
    "#Check the price\n",
    "price"
   ]
  },
  {
   "cell_type": "code",
   "execution_count": 292,
   "metadata": {},
   "outputs": [
    {
     "data": {
      "image/png": "[encoded data removed]",
      "text/plain": [
       "<matplotlib.figure.Figure at 0xf6c5400>"
      ]
     },
     "metadata": {},
     "output_type": "display_data"
    }
   ],
   "source": [
    "#Regression with using Python Sklearn Libraries\n",
    "\n",
    "from sklearn import linear_model\n",
    "\n",
    "# Create linear regression object\n",
    "regr = linear_model.LinearRegression()\n",
    "\n",
    "X_lib = data[['HouseSize','NumOfBedrooms']] \n",
    "Y_lib = data['Price']\n",
    "\n",
    "#Split data into test and train\n",
    "from sklearn.model_selection import train_test_split\n",
    "X_train, X_test, y_train, y_test = train_test_split(X_lib, Y_lib, test_size=0.2, random_state=42)\n",
    "\n",
    "# Train the model using the training sets\n",
    "regr.fit(X_train, y_train)\n",
    "\n",
    "# Make predictions using the testing set\n",
    "pred = regr.predict(X_test)\n",
    "\n",
    "# Plot outputs\n",
    "sns.lmplot(x='HouseSize', y='Price', hue='NumOfBedrooms',data=data, fit_reg=False)\n",
    "plt.xlabel('HouseSize')\n",
    "plt.ylabel('Price')\n",
    "plt.title('HouseSize vs Price')\n",
    "plt.show()"
   ]
  },
  {
   "cell_type": "code",
   "execution_count": 294,
   "metadata": {},
   "outputs": [
    {
     "name": "stdout",
     "output_type": "stream",
     "text": [
      "Variance score: 0.51\n"
     ]
    }
   ],
   "source": [
    "from sklearn.metrics import mean_squared_error, r2_score\n",
    "\n",
    "# Explained variance score: 1 is perfect prediction\n",
    "print('Variance score: %.2f' % r2_score(y_test, pred))\n"
   ]
  },
  {
   "cell_type": "code",
   "execution_count": 296,
   "metadata": {},
   "outputs": [
    {
     "name": "stdout",
     "output_type": "stream",
     "text": [
      "For 1650 sqr.feet and 3 bedrooms house, Price prediction =  [ 280536.50711115]\n"
     ]
    },
    {
     "name": "stderr",
     "output_type": "stream",
     "text": [
      "C:\\Users\\volkan.sahin\\Downloads\\Python\\WinPython-64bit-3.5.3.1Qt5\\python-3.5.3.amd64\\lib\\site-packages\\sklearn\\utils\\validation.py:395: DeprecationWarning: Passing 1d arrays as data is deprecated in 0.17 and will raise ValueError in 0.19. Reshape your data either using X.reshape(-1, 1) if your data has a single feature or X.reshape(1, -1) if it contains a single sample.\n",
      "  DeprecationWarning)\n"
     ]
    }
   ],
   "source": [
    "#Prediction for 1650 sqr.feet and 3 bedrooms house\n",
    "print('For 1650 sqr.feet and 3 bedrooms house, Price prediction = ',regr.predict([1650,3]))"
   ]
  },
  {
   "cell_type": "markdown",
   "metadata": {},
   "source": [
    "Price is close to the value that we have calculated before."
   ]
  }
 ],
 "metadata": {
  "kernelspec": {
   "display_name": "Python 3",
   "language": "python",
   "name": "python3"
  },
  "language_info": {
   "codemirror_mode": {
    "name": "ipython",
    "version": 3
   },
   "file_extension": ".py",
   "mimetype": "text/x-python",
   "name": "python",
   "nbconvert_exporter": "python",
   "pygments_lexer": "ipython3",
   "version": "3.5.3"
  }
 },
 "nbformat": 4,
 "nbformat_minor": 2
}
