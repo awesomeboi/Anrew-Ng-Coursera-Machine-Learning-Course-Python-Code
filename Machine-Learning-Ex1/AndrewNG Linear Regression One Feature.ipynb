{
 "cells": [
  {
   "cell_type": "code",
   "execution_count": 316,
   "metadata": {
    "collapsed": true
   },
   "outputs": [],
   "source": [
    "#Import Necessary Libraries\n",
    "import pandas as pd\n",
    "import numpy as np\n",
    "import matplotlib.pyplot as plt\n",
    "%matplotlib inline\n",
    "import warnings\n",
    "warnings.filterwarnings('ignore')"
   ]
  },
  {
   "cell_type": "code",
   "execution_count": 317,
   "metadata": {
    "collapsed": true
   },
   "outputs": [],
   "source": [
    "#Read Data\n",
    "data = pd.read_csv('ex1data1.txt', header=None)\n",
    "data.columns = ['Population', 'Profit']"
   ]
  },
  {
   "cell_type": "code",
   "execution_count": 318,
   "metadata": {
    "scrolled": true
   },
   "outputs": [
    {
     "data": {
      "text/html": [
       "<div>\n",
       "<table border=\"1\" class=\"dataframe\">\n",
       "  <thead>\n",
       "    <tr style=\"text-align: right;\">\n",
       "      <th></th>\n",
       "      <th>Population</th>\n",
       "      <th>Profit</th>\n",
       "    </tr>\n",
       "  </thead>\n",
       "  <tbody>\n",
       "    <tr>\n",
       "      <th>0</th>\n",
       "      <td>6.1101</td>\n",
       "      <td>17.5920</td>\n",
       "    </tr>\n",
       "    <tr>\n",
       "      <th>1</th>\n",
       "      <td>5.5277</td>\n",
       "      <td>9.1302</td>\n",
       "    </tr>\n",
       "    <tr>\n",
       "      <th>2</th>\n",
       "      <td>8.5186</td>\n",
       "      <td>13.6620</td>\n",
       "    </tr>\n",
       "    <tr>\n",
       "      <th>3</th>\n",
       "      <td>7.0032</td>\n",
       "      <td>11.8540</td>\n",
       "    </tr>\n",
       "    <tr>\n",
       "      <th>4</th>\n",
       "      <td>5.8598</td>\n",
       "      <td>6.8233</td>\n",
       "    </tr>\n",
       "  </tbody>\n",
       "</table>\n",
       "</div>"
      ],
      "text/plain": [
       "   Population   Profit\n",
       "0      6.1101  17.5920\n",
       "1      5.5277   9.1302\n",
       "2      8.5186  13.6620\n",
       "3      7.0032  11.8540\n",
       "4      5.8598   6.8233"
      ]
     },
     "execution_count": 318,
     "metadata": {},
     "output_type": "execute_result"
    }
   ],
   "source": [
    "#Data Summary\n",
    "data.head()"
   ]
  },
  {
   "cell_type": "code",
   "execution_count": 319,
   "metadata": {},
   "outputs": [
    {
     "data": {
      "text/plain": [
       "<matplotlib.text.Text at 0xd5df278>"
      ]
     },
     "execution_count": 319,
     "metadata": {},
     "output_type": "execute_result"
    },
    {
     "data": {
      "image/png": "[encoded data removed]",
      "text/plain": [
       "<matplotlib.figure.Figure at 0xd13c668>"
      ]
     },
     "metadata": {},
     "output_type": "display_data"
    }
   ],
   "source": [
    "#plotting\n",
    "plt.scatter(data.Population,data.Profit)\n",
    "plt.xlabel('Population')\n",
    "plt.ylabel('Profit')\n",
    "plt.title('Population vs Profit')"
   ]
  },
  {
   "cell_type": "code",
   "execution_count": 320,
   "metadata": {},
   "outputs": [],
   "source": [
    "#Create X matrix\n",
    "X = np.array(data.Population)\n",
    "\n",
    "#Create Y Matrix\n",
    "y=np.array(data.Profit)\n",
    "\n",
    "y = y.reshape(-1,1)\n",
    "\n",
    "# Add 1 column to X Matrix for vector calculation\n",
    "values = np.full(data.Population.size,1)\n",
    "X = np.column_stack((values,X))"
   ]
  },
  {
   "cell_type": "code",
   "execution_count": 321,
   "metadata": {},
   "outputs": [
    {
     "data": {
      "text/plain": [
       "(97, 2)"
      ]
     },
     "execution_count": 321,
     "metadata": {},
     "output_type": "execute_result"
    }
   ],
   "source": [
    "#Check X Matrix shape\n",
    "X.shape"
   ]
  },
  {
   "cell_type": "code",
   "execution_count": 322,
   "metadata": {
    "collapsed": true
   },
   "outputs": [],
   "source": [
    "#Initialize theta Matrix as 0 Matrix\n",
    "theta = np.zeros((2,1))"
   ]
  },
  {
   "cell_type": "code",
   "execution_count": 323,
   "metadata": {},
   "outputs": [
    {
     "data": {
      "text/plain": [
       "array([[ 0.],\n",
       "       [ 0.]])"
      ]
     },
     "execution_count": 323,
     "metadata": {},
     "output_type": "execute_result"
    }
   ],
   "source": [
    "#Check theta Matrix shape\n",
    "theta"
   ]
  },
  {
   "cell_type": "code",
   "execution_count": 324,
   "metadata": {
    "collapsed": true
   },
   "outputs": [],
   "source": [
    "# h = theta0 * x0 + theta1 * x1\n",
    "# x1 is the Feature Matrix second column and x0 is the Feature Matrix first column\n",
    "# x0 is always 1 for calculation\n",
    "# J = (sum((h-y)^2)) * 1/2m, m = Observation Number = Feature Number\n",
    "# J = Cost Function\n",
    "def costfunction(X, theta, y):\n",
    "    m = X[:,1].size\n",
    "    h = np.dot(X,theta)\n",
    "    J = np.sum(np.square(h-y))/(2*m)\n",
    "    return J"
   ]
  },
  {
   "cell_type": "code",
   "execution_count": 329,
   "metadata": {},
   "outputs": [],
   "source": [
    "#Grading Decent\n",
    "def gradingDecent (X, theta, y, alpha, iteration):\n",
    "    X_0 = X[:,0].reshape(-1,1)\n",
    "    X_1 = X[:,1].reshape(-1,1)\n",
    "    J_change = []\n",
    "    for i in range(iteration):\n",
    "        h = np.dot(X,theta)\n",
    "        theta[0] = theta[0] - alpha*sum((np.dot(np.transpose(X_0),(h- y))))/m\n",
    "        theta[1] = theta[1] - alpha*sum((np.dot(np.transpose(X_1),(h- y))))/m\n",
    "        J_change.append(costfunction(X, theta, y))\n",
    "    return theta,J_change"
   ]
  },
  {
   "cell_type": "code",
   "execution_count": 326,
   "metadata": {},
   "outputs": [
    {
     "name": "stdout",
     "output_type": "stream",
     "text": [
      "32.0727338775\n"
     ]
    }
   ],
   "source": [
    "# Test Phase 1\n",
    "#Compute const function with theta =[0,0] values.\n",
    "J = costfunction(X,theta,y)\n",
    "print(J)"
   ]
  },
  {
   "cell_type": "code",
   "execution_count": 327,
   "metadata": {},
   "outputs": [
    {
     "name": "stdout",
     "output_type": "stream",
     "text": [
      "54.242455082\n"
     ]
    }
   ],
   "source": [
    "# Test Phase 2\n",
    "#Compute const function with theta =[-1,2] values.\n",
    "theta = np.array([[-1],\n",
    "                  [2]])\n",
    "J = costfunction(X, theta, y)\n",
    "print(J)"
   ]
  },
  {
   "cell_type": "code",
   "execution_count": 367,
   "metadata": {},
   "outputs": [
    {
     "name": "stdout",
     "output_type": "stream",
     "text": [
      "[[-3.63029144]\n",
      " [ 1.16636235]]\n"
     ]
    }
   ],
   "source": [
    "# Test Phase 3\n",
    "#Grading Decent starts with theta =[0,0], alpha = 0.01 and iteration = 1500  values.\n",
    "theta = np.zeros((2,1))\n",
    "alpha = 0.01,\n",
    "iteration = 1500\n",
    "theta,J_change = gradingDecent (X, theta, y, alpha, iteration)\n",
    "print(theta)"
   ]
  },
  {
   "cell_type": "code",
   "execution_count": 268,
   "metadata": {},
   "outputs": [
    {
     "data": {
      "image/png": "[encoded data removed]",
      "text/plain": [
       "<matplotlib.figure.Figure at 0xc241438>"
      ]
     },
     "metadata": {},
     "output_type": "display_data"
    }
   ],
   "source": [
    "#plotting\n",
    "plt.scatter(data.Population,data.Profit)\n",
    "plt.plot(data.Population,np.dot(X,theta),color='red', linestyle='dotted')\n",
    "plt.xlabel('Population')\n",
    "plt.ylabel('Profit')\n",
    "plt.title('Population vs Profit')\n",
    "plt.show()"
   ]
  },
  {
   "cell_type": "code",
   "execution_count": 369,
   "metadata": {},
   "outputs": [
    {
     "data": {
      "image/png": "[encoded data removed]",
      "text/plain": [
       "<matplotlib.figure.Figure at 0xd8fa748>"
      ]
     },
     "metadata": {},
     "output_type": "display_data"
    }
   ],
   "source": [
    "iteration_number = range(1,len(iteration)+1)\n",
    "plt.plot(iteration_number,J_change)\n",
    "plt.xlabel('Iteration')\n",
    "plt.ylabel('Cost')\n",
    "plt.title('Cost vs Iteration')\n",
    "plt.show()"
   ]
  },
  {
   "cell_type": "markdown",
   "metadata": {},
   "source": [
    "Cost decrease in every iteration. this means grading decent works well. After 1000 iteration it doesn't going down much more."
   ]
  },
  {
   "cell_type": "code",
   "execution_count": 269,
   "metadata": {},
   "outputs": [
    {
     "name": "stdout",
     "output_type": "stream",
     "text": [
      "Profit prediction = [[ 4519.7678677]]\n"
     ]
    }
   ],
   "source": [
    "#Prediction 1 \n",
    "#Calculate Population (X Feature) =  35000\n",
    "X = np.array([[1, 3.5]])\n",
    "prediction1 = np.dot(X,theta)\n",
    "\n",
    "#Andrew makes this calculation as below.\n",
    "print('Profit prediction = {}'.format(prediction1*10000))"
   ]
  },
  {
   "cell_type": "code",
   "execution_count": 270,
   "metadata": {},
   "outputs": [
    {
     "name": "stdout",
     "output_type": "stream",
     "text": [
      "Profit prediction = [[ 45342.45012945]]\n"
     ]
    }
   ],
   "source": [
    "#Prediction 2 \n",
    "#Calculate Population (X Feature) =  70000\n",
    "X = np.array([[1, 7]])\n",
    "prediction1 = np.dot(X,theta)\n",
    "\n",
    "#Andrew makes this calculation as below.\n",
    "print('Profit prediction = {}'.format(prediction1*10000))"
   ]
  },
  {
   "cell_type": "code",
   "execution_count": 350,
   "metadata": {},
   "outputs": [
    {
     "data": {
      "image/png": "[encoded data removed]",
      "text/plain": [
       "<matplotlib.figure.Figure at 0xd6810f0>"
      ]
     },
     "metadata": {},
     "output_type": "display_data"
    }
   ],
   "source": [
    "#Regression with using Python Sklearn Libraries\n",
    "\n",
    "from sklearn import linear_model\n",
    "\n",
    "# Create linear regression object\n",
    "regr = linear_model.LinearRegression()\n",
    "\n",
    "#Reshape and split vaariable for sklearn library\n",
    "#Train Data\n",
    "x_train = data.Population[:-20].reshape(-1,1)\n",
    "y_train = data.Profit[:-20].reshape(-1,1)\n",
    "#Test Data\n",
    "x_test = data.Population[20:].reshape(-1,1)\n",
    "y_test = data.Profit[20:].reshape(-1,1)\n",
    "\n",
    "# Train the model using the training sets\n",
    "regr.fit(x_train, y_train)\n",
    "\n",
    "# Make predictions using the testing set\n",
    "pred = regr.predict(x_test)\n",
    "\n",
    "# Plot outputs\n",
    "plt.scatter(x_test, y_test,  color='blue')\n",
    "plt.plot(x_test, pred, color='red', linewidth=3)\n",
    "plt.xlabel('Population')\n",
    "plt.ylabel('Profit')\n",
    "plt.title('Population vs Profit')\n",
    "plt.show()\n"
   ]
  },
  {
   "cell_type": "markdown",
   "metadata": {},
   "source": [
    "Plot seems identical but of course there is difference between mathematical way and Python Library"
   ]
  },
  {
   "cell_type": "code",
   "execution_count": 305,
   "metadata": {},
   "outputs": [
    {
     "name": "stdout",
     "output_type": "stream",
     "text": [
      "Variance score: 0.82\n"
     ]
    }
   ],
   "source": [
    "from sklearn.metrics import mean_squared_error, r2_score\n",
    "\n",
    "# Explained variance score: 1 is perfect prediction\n",
    "print('Variance score: %.2f' % r2_score(y_test, pred))\n"
   ]
  },
  {
   "cell_type": "markdown",
   "metadata": {},
   "source": [
    "Lets compare predictions that we made with mathematical way"
   ]
  },
  {
   "cell_type": "code",
   "execution_count": 311,
   "metadata": {},
   "outputs": [
    {
     "name": "stdout",
     "output_type": "stream",
     "text": [
      "For population = 35,000, prediction =  5382.25857942\n",
      "For population = 70,000, prediction =  47160.9097065\n"
     ]
    }
   ],
   "source": [
    "#Prediction1\n",
    "print('For population = 35,000, prediction = ',10000*regr.predict(3.5)[0][0])\n",
    "#Prediction2\n",
    "print('For population = 70,000, prediction = ',10000*regr.predict(7)[0][0])"
   ]
  },
  {
   "cell_type": "markdown",
   "metadata": {},
   "source": [
    "Results are slightly different from mathematical way."
   ]
  }
 ],
 "metadata": {
  "kernelspec": {
   "display_name": "Python 3",
   "language": "python",
   "name": "python3"
  },
  "language_info": {
   "codemirror_mode": {
    "name": "ipython",
    "version": 3
   },
   "file_extension": ".py",
   "mimetype": "text/x-python",
   "name": "python",
   "nbconvert_exporter": "python",
   "pygments_lexer": "ipython3",
   "version": "3.5.3"
  }
 },
 "nbformat": 4,
 "nbformat_minor": 2
}
